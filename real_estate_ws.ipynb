{
 "cells": [
  {
   "cell_type": "code",
   "execution_count": 172,
   "id": "d1cf60db",
   "metadata": {},
   "outputs": [],
   "source": [
    "from bs4 import BeautifulSoup\n",
    "import requests\n",
    "import pandas as pd\n",
    "import re\n",
    "import time"
   ]
  },
  {
   "cell_type": "code",
   "execution_count": 173,
   "id": "969ee3b7",
   "metadata": {},
   "outputs": [],
   "source": [
    "# The main website, a listing a real estate properties in Toronto\n",
    "\n",
    "website = \"https://www.royallepage.ca/en/on/toronto/properties/\""
   ]
  },
  {
   "cell_type": "code",
   "execution_count": 174,
   "id": "e044dabb",
   "metadata": {},
   "outputs": [],
   "source": [
    "# This header will emulate a browser request somewhat, making it less likely to be blocked by the site\n",
    "\n",
    "headers = ({'User-Agent': 'Mozilla/5.0 (Windows NT 10.0; Win64; x64) AppleWebKit/537.36 (KHTML, like Gecko) Chrome/96.0.4664.110 Safari/537.36 Edg/96.0.1054.62'})"
   ]
  },
  {
   "cell_type": "code",
   "execution_count": 175,
   "id": "28531aeb",
   "metadata": {},
   "outputs": [],
   "source": [
    "#Iterate through the website pages\n",
    "for page_number in range(1, 20):\n",
    "    url = f\"{website}{page_number}\"\n",
    "    response = requests.get(url, headers=headers)\n",
    "    soup = BeautifulSoup(response.content, 'html.parser')\n",
    "    listings = soup.find_all('li', {'class': 'card-group__item'})\n",
    "    # Iterate through the individual real estate properties\n",
    "    for listing in listings:\n",
    "        price = listing.find('span', {'class': 'currency'}).text[1:] + listing.find('span', {'class': 'price'}).text\n",
    "        address = listing.find('address', {'class': 'address-1'}).text.strip()\n",
    "        bedrooms_span = listing.find('span', {'class': 'beds'})\n",
    "        # Check if bedrooms are listed\n",
    "        if bedrooms_span:\n",
    "            bedrooms = int(bedrooms_span.text.strip())\n",
    "        else:\n",
    "            bedrooms = 'Not listed'\n",
    "        bathrooms_span = listing.find('span', {'class': 'baths'})\n",
    "        # Check if bathrooms are listed\n",
    "        if bathrooms_span:\n",
    "            bathrooms = float(bathrooms_span.text.strip())\n",
    "        else:\n",
    "            bathrooms = 'Not listed'\n",
    "        postal_code_span = listing.find('img', alt=re.compile(r'Toronto, ON [A-Z]\\d[A-Z] \\d[A-Z]\\d'))\n",
    "        # Check if postal codes are listed\n",
    "        if postal_code_span:\n",
    "            postal_code_pattern = r'Toronto, ON ([A-Z]\\d[A-Z] \\d[A-Z]\\d)'\n",
    "            postal_code = re.search(postal_code_pattern, postal_code_span['alt']).group(1)\n",
    "        else:\n",
    "            postal_code = 'Not listed'\n",
    "        row = {'price': price, 'address': address, 'bedrooms': bedrooms, 'bathrooms': bathrooms, 'postal_code': postal_code}\n",
    "        rows.append(row)\n",
    "    # Add a delay between requests so as to not overwhelm the website\n",
    "    time.sleep(1)"
   ]
  },
  {
   "cell_type": "code",
   "execution_count": 183,
   "id": "5c075a7d",
   "metadata": {},
   "outputs": [],
   "source": [
    "# Create the dataframe\n",
    "\n",
    "df = pd.DataFrame(rows)"
   ]
  },
  {
   "cell_type": "code",
   "execution_count": 182,
   "id": "e981bb83",
   "metadata": {},
   "outputs": [
    {
     "name": "stdout",
     "output_type": "stream",
     "text": [
      "          price                     address    bedrooms   bathrooms  \\\n",
      "0    $2,599,900              599 Spadina Rd           4  Not listed   \n",
      "1    $1,999,999               61 Cameron St           6  Not listed   \n",
      "2    $1,750,000         #106 -4750 Yonge St  Not listed  Not listed   \n",
      "3    $1,688,000              140 Bogert Ave           3  Not listed   \n",
      "4    $1,520,000       150 Harlandale Avenue           4  Not listed   \n",
      "..          ...                         ...         ...         ...   \n",
      "271   $$735,000            53 Templeton Crt  Not listed  Not listed   \n",
      "272   $$729,000           #703 -87 Peter St  Not listed  Not listed   \n",
      "273   $$709,000           #7 -38 Gibson Ave  Not listed  Not listed   \n",
      "274   $$699,000          45 English Ivy Way  Not listed  Not listed   \n",
      "275   $$699,000  #1201 -2015 Sheppard Ave E  Not listed  Not listed   \n",
      "\n",
      "    postal_code  \n",
      "0       M5P 2X1  \n",
      "1       M5T 2H1  \n",
      "2    Not listed  \n",
      "3       M2N 1K8  \n",
      "4       M2N 1P4  \n",
      "..          ...  \n",
      "271     M1E 2C3  \n",
      "272     M5V 0P1  \n",
      "273     M9N 0A5  \n",
      "274     M2H 3M3  \n",
      "275     M2J 0B3  \n",
      "\n",
      "[276 rows x 5 columns]\n"
     ]
    }
   ],
   "source": [
    "print(df)"
   ]
  },
  {
   "cell_type": "code",
   "execution_count": 184,
   "id": "876605c4",
   "metadata": {},
   "outputs": [],
   "source": [
    "# Export the dataframe to a CSV file\n",
    "\n",
    "df.to_csv('toronto_real_estate.csv', index=False)"
   ]
  },
  {
   "cell_type": "code",
   "execution_count": null,
   "id": "4a12007f",
   "metadata": {},
   "outputs": [],
   "source": []
  }
 ],
 "metadata": {
  "kernelspec": {
   "display_name": "Python 3 (ipykernel)",
   "language": "python",
   "name": "python3"
  },
  "language_info": {
   "codemirror_mode": {
    "name": "ipython",
    "version": 3
   },
   "file_extension": ".py",
   "mimetype": "text/x-python",
   "name": "python",
   "nbconvert_exporter": "python",
   "pygments_lexer": "ipython3",
   "version": "3.10.6"
  }
 },
 "nbformat": 4,
 "nbformat_minor": 5
}
